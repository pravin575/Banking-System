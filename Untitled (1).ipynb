{
 "cells": [
  {
   "cell_type": "code",
   "execution_count": 8,
   "id": "21fc9263-25e3-46fd-92d3-957b223c5640",
   "metadata": {},
   "outputs": [],
   "source": [
    "class User():\n",
    "    def __init__(self,name,age,gender):\n",
    "        self.name = name\n",
    "        self.age = age\n",
    "        self.gender = gender\n",
    "\n",
    "    def showdetails(self):\n",
    "        print(\"personal details :-\")\n",
    "        print(f\"Name :- {self.name.title()}\")\n",
    "        print(f\"Age :- {self.age}\")\n",
    "        print(f\"Gender :- {self.gender.title()}\")\n",
    "\n",
    "class Bank(User):\n",
    "    __balance = 0\n",
    "    __usercount = 0\n",
    "\n",
    "    def __init__(self,name,age,gender):\n",
    "        super().__init__(name,age,gender)\n",
    "        Bank.__usercount += 1\n",
    "        self.__accountno = f\"bnkaccno000{Bank.__usercount}\"\n",
    "\n",
    "    def deposit(self,amount):\n",
    "        self.amount = amount\n",
    "        self.__balance = self.__balance + self.amount\n",
    "        print(f\"Account Balance updated :- Rs. {self.__balance}\")\n",
    "\n",
    "    def withdraw(self,amount):\n",
    "        self.amount = amount\n",
    "        \n",
    "        if (self.amount > self.__balance):\n",
    "            print(f\"Insufficient Balance, Your current account balance is :- {self.__balance}\")\n",
    "        elif(100<=self.amount <= self.__balance):\n",
    "            print(\"Thank you for visiting\")\n",
    "            self.__balance = self.__balance - self.amount\n",
    "            print(f\"Your current account balance is {self.__balance}\")\n",
    "        else:\n",
    "            print(\"You cannot withdraw less than 100 Rs.\")\n",
    "\n",
    "    def viewbalance(self):\n",
    "        self.showdetails()\n",
    "        print(f\"Account No : {self.__accountno}\")\n",
    "        print(f\"Your current Account Balance is {self.__balance}\")\n",
    "\n",
    "    def transfer(self,username,amount):\n",
    "        self.amount = amount\n",
    "        if (self.amount > self.__balance):\n",
    "            print(f\"Insufficient Balance, Your current account balance is :- {self.__balance}\")\n",
    "\n",
    "        elif(1<=self.amount <= self.__balance):\n",
    "            username.__balance = username.__balance + self.amount\n",
    "            self.__balance = self.__balance - self.amount\n",
    "            print(\"Amount transferred successfully\")\n",
    "            print(f\"Your current account balance is {self.__balance}\")\n",
    "        \n",
    "        else:\n",
    "            print(\"You cannot transfer less than 1 Rs\")"
   ]
  },
  {
   "cell_type": "code",
   "execution_count": 9,
   "id": "cd7c4ddd-f63e-4369-a992-ae3df5480089",
   "metadata": {},
   "outputs": [],
   "source": [
    "Pravin = Bank(\"Pravin\",22,\"maLE\")\n",
    "\n",
    "Vaibhav = Bank(\"Vaibhav\",24,\"MaLe\")"
   ]
  },
  {
   "cell_type": "code",
   "execution_count": 10,
   "id": "74464f20-a246-4ac4-8120-638d43d8935e",
   "metadata": {},
   "outputs": [
    {
     "name": "stdout",
     "output_type": "stream",
     "text": [
      "personal details :-\n",
      "Name :- Pravin\n",
      "Age :- 22\n",
      "Gender :- Male\n",
      "Account No : bnkaccno0001\n",
      "Your current Account Balance is 0\n"
     ]
    }
   ],
   "source": [
    "Pravin.viewbalance()"
   ]
  },
  {
   "cell_type": "code",
   "execution_count": 11,
   "id": "cca1a319-99d9-4fe2-88c5-a6c7ff647664",
   "metadata": {},
   "outputs": [
    {
     "name": "stdout",
     "output_type": "stream",
     "text": [
      "personal details :-\n",
      "Name :- Vaibhav\n",
      "Age :- 24\n",
      "Gender :- Male\n",
      "Account No : bnkaccno0002\n",
      "Your current Account Balance is 0\n"
     ]
    }
   ],
   "source": [
    "Vaibhav.viewbalance()"
   ]
  },
  {
   "cell_type": "code",
   "execution_count": 12,
   "id": "a9b5afed-19a7-415a-b131-7ea68ba9ffa5",
   "metadata": {},
   "outputs": [
    {
     "name": "stdout",
     "output_type": "stream",
     "text": [
      "Account Balance updated :- Rs. 10000\n"
     ]
    }
   ],
   "source": [
    "Pravin.deposit(10000)"
   ]
  },
  {
   "cell_type": "code",
   "execution_count": 13,
   "id": "90853e5a-6917-437d-bb7b-dd722f3c9c67",
   "metadata": {},
   "outputs": [
    {
     "name": "stdout",
     "output_type": "stream",
     "text": [
      "personal details :-\n",
      "Name :- Pravin\n",
      "Age :- 22\n",
      "Gender :- Male\n",
      "Account No : bnkaccno0001\n",
      "Your current Account Balance is 10000\n"
     ]
    }
   ],
   "source": [
    "Pravin.viewbalance()"
   ]
  },
  {
   "cell_type": "code",
   "execution_count": 14,
   "id": "bd3e1790-8c7d-4da0-a74a-2c52291abd09",
   "metadata": {},
   "outputs": [
    {
     "name": "stdout",
     "output_type": "stream",
     "text": [
      "Account Balance updated :- Rs. 5000\n"
     ]
    }
   ],
   "source": [
    "Vaibhav.deposit(5000)"
   ]
  },
  {
   "cell_type": "code",
   "execution_count": 15,
   "id": "61863094-f9e0-42e0-b86f-a51519831fb6",
   "metadata": {},
   "outputs": [
    {
     "name": "stdout",
     "output_type": "stream",
     "text": [
      "personal details :-\n",
      "Name :- Vaibhav\n",
      "Age :- 24\n",
      "Gender :- Male\n",
      "Account No : bnkaccno0002\n",
      "Your current Account Balance is 5000\n"
     ]
    }
   ],
   "source": [
    "Vaibhav.viewbalance()"
   ]
  },
  {
   "cell_type": "code",
   "execution_count": 16,
   "id": "e370afea-1276-4b28-baeb-c724d998ddfa",
   "metadata": {},
   "outputs": [
    {
     "name": "stdout",
     "output_type": "stream",
     "text": [
      "Amount transferred successfully\n",
      "Your current account balance is 5000\n"
     ]
    }
   ],
   "source": [
    "Pravin.transfer(Vaibhav,5000)"
   ]
  },
  {
   "cell_type": "code",
   "execution_count": 17,
   "id": "5c21b265-0be5-4fbf-aace-7cdc11f947fe",
   "metadata": {},
   "outputs": [
    {
     "name": "stdout",
     "output_type": "stream",
     "text": [
      "personal details :-\n",
      "Name :- Vaibhav\n",
      "Age :- 24\n",
      "Gender :- Male\n",
      "Account No : bnkaccno0002\n",
      "Your current Account Balance is 10000\n"
     ]
    }
   ],
   "source": [
    "Vaibhav.viewbalance()"
   ]
  },
  {
   "cell_type": "code",
   "execution_count": 18,
   "id": "5f124369-5785-4edc-b4ff-c1b8141bb8e6",
   "metadata": {},
   "outputs": [
    {
     "name": "stdout",
     "output_type": "stream",
     "text": [
      "personal details :-\n",
      "Name :- Vaibhav\n",
      "Age :- 24\n",
      "Gender :- Male\n"
     ]
    }
   ],
   "source": [
    "Vaibhav.showdetails()"
   ]
  },
  {
   "cell_type": "code",
   "execution_count": null,
   "id": "96677e28-243e-4eb9-a0ca-a8732f9cec8a",
   "metadata": {},
   "outputs": [],
   "source": []
  }
 ],
 "metadata": {
  "kernelspec": {
   "display_name": "Python 3 (ipykernel)",
   "language": "python",
   "name": "python3"
  },
  "language_info": {
   "codemirror_mode": {
    "name": "ipython",
    "version": 3
   },
   "file_extension": ".py",
   "mimetype": "text/x-python",
   "name": "python",
   "nbconvert_exporter": "python",
   "pygments_lexer": "ipython3",
   "version": "3.12.4"
  }
 },
 "nbformat": 4,
 "nbformat_minor": 5
}
